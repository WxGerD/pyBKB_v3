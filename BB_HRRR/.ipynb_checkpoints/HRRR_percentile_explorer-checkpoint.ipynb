{
 "cells": [
  {
   "cell_type": "markdown",
   "metadata": {},
   "source": [
    "**Brian Blaylock**  \n",
    "**February 6, 2019**\n",
    "\n",
    "# HRRR Percentile Explorer"
   ]
  },
  {
   "cell_type": "code",
   "execution_count": 1,
   "metadata": {},
   "outputs": [],
   "source": [
    "import numpy as np\n",
    "from datetime import datetime, timedelta\n",
    "import xarray\n",
    "import os\n",
    "import matplotlib.pyplot as plt\n",
    "\n",
    "\n",
    "import sys\n",
    "sys.path.append('/uufs/chpc.utah.edu/common/home/u0553130/pyBKB_v3')\n",
    "from BB_maps.my_basemap import draw_centermap, draw_HRRR_map\n",
    "from BB_HRRR.HRRR_Pando import get_hrrr_variable, get_hrrr_latlon\n",
    "from BB_wx_calcs.wind import wind_uv_to_spd\n",
    "from BB_cmap.NWS_standard_cmap import *\n",
    "\n",
    "import matplotlib as mpl\n",
    "#mpl.rcParams['figure.figsize'] = [15,15]\n",
    "mpl.rcParams['figure.titlesize'] = 15\n",
    "mpl.rcParams['figure.titleweight'] = 'bold'\n",
    "mpl.rcParams['xtick.labelsize'] = 10\n",
    "mpl.rcParams['ytick.labelsize'] = 10\n",
    "mpl.rcParams['axes.labelsize'] = 12\n",
    "mpl.rcParams['axes.titlesize'] = 15\n",
    "mpl.rcParams['lines.linewidth'] = 1.8\n",
    "mpl.rcParams['grid.linewidth'] = .25\n",
    "mpl.rcParams['figure.subplot.wspace'] = 0.05\n",
    "mpl.rcParams['figure.subplot.hspace'] = 0.05\n",
    "mpl.rcParams['legend.fontsize'] = 10\n",
    "mpl.rcParams['legend.framealpha'] = .75\n",
    "mpl.rcParams['legend.loc'] = 'best'\n",
    "mpl.rcParams['savefig.bbox'] = 'tight'\n",
    "mpl.rcParams['savefig.dpi'] = 100"
   ]
  },
  {
   "cell_type": "code",
   "execution_count": null,
   "metadata": {},
   "outputs": [],
   "source": []
  },
  {
   "cell_type": "code",
   "execution_count": null,
   "metadata": {},
   "outputs": [],
   "source": []
  },
  {
   "cell_type": "markdown",
   "metadata": {},
   "source": [
    "-----------\n",
    "-----------"
   ]
  },
  {
   "cell_type": "code",
   "execution_count": 2,
   "metadata": {},
   "outputs": [],
   "source": [
    "month = 6\n",
    "\n",
    "#variable = 'GUST:surface'\n",
    "variable = 'UVGRD:10 m'\n",
    "\n",
    "# A MesoWest station ID or a latitude longitude point i.e. '40.4, -115.2'\n",
    "location = '37.6,-119.1'\n",
    "\n",
    "# Map size\n",
    "map_size = (7,6)"
   ]
  },
  {
   "cell_type": "markdown",
   "metadata": {},
   "source": [
    "-----------\n",
    "-----------"
   ]
  },
  {
   "cell_type": "code",
   "execution_count": 3,
   "metadata": {},
   "outputs": [],
   "source": [
    "# Preload HRRR lat/lon grid\n",
    "Hlats, Hlons = get_hrrr_latlon(DICT=False)"
   ]
  },
  {
   "cell_type": "code",
   "execution_count": 4,
   "metadata": {},
   "outputs": [
    {
     "name": "stdout",
     "output_type": "stream",
     "text": [
      "2106-06-15 00:00:00\n",
      "2106-06-15 01:00:00\n",
      "2106-06-15 02:00:00\n",
      "2106-06-15 03:00:00\n",
      "2106-06-15 04:00:00\n",
      "2106-06-15 05:00:00\n",
      "2106-06-15 06:00:00\n",
      "2106-06-15 07:00:00\n",
      "2106-06-15 08:00:00\n",
      "2106-06-15 09:00:00\n",
      "2106-06-15 10:00:00\n",
      "2106-06-15 11:00:00\n",
      "2106-06-15 12:00:00\n",
      "2106-06-15 13:00:00\n",
      "2106-06-15 14:00:00\n",
      "2106-06-15 15:00:00\n",
      "2106-06-15 16:00:00\n",
      "2106-06-15 17:00:00\n",
      "2106-06-15 18:00:00\n",
      "2106-06-15 19:00:00\n",
      "2106-06-15 20:00:00\n",
      "2106-06-15 21:00:00\n",
      "2106-06-15 22:00:00\n",
      "2106-06-15 23:00:00\n"
     ]
    }
   ],
   "source": [
    "var = variable.replace(':', '_').replace(' ', '_')\n",
    "\n",
    "DATE = datetime(2106, month, 15)\n",
    "\n",
    "# Load OSG stats for every hour of the month\n",
    "OSG = []\n",
    "for h in range(24):\n",
    "    print(DATE)\n",
    "    # Load OSG statistics\n",
    "    DIR = '/uufs/chpc.utah.edu/common/home/horel-group8/blaylock/HRRR_OSG/hourly30/%s/' % var\n",
    "    FILE = 'OSG_HRRR_%s_%s_f00.h5' % (var, DATE.strftime('m%m_d%d_h%H'))\n",
    "    OSG.append(xarray.open_dataset(DIR+FILE))\n",
    "    DATE += timedelta(hours=1)"
   ]
  },
  {
   "cell_type": "code",
   "execution_count": 5,
   "metadata": {},
   "outputs": [],
   "source": [
    "# Make map\n",
    "lat, lon = np.array(location.split(','), dtype=float)\n",
    "m = draw_centermap(lat, lon, size=map_size)"
   ]
  },
  {
   "cell_type": "code",
   "execution_count": 6,
   "metadata": {},
   "outputs": [
    {
     "data": {
      "text/plain": [
       "<matplotlib.collections.LineCollection at 0x2ad85414b470>"
      ]
     },
     "execution_count": 6,
     "metadata": {},
     "output_type": "execute_result"
    },
    {
     "data": {
      "image/png": "[encoded data removed]",
      "text/plain": [
       "<Figure size 432x288 with 1 Axes>"
      ]
     },
     "metadata": {},
     "output_type": "display_data"
    }
   ],
   "source": [
    "m.drawstates()\n",
    "m.drawcoastlines()\n",
    "m.drawcountries()"
   ]
  },
  {
   "cell_type": "code",
   "execution_count": 7,
   "metadata": {},
   "outputs": [],
   "source": [
    "MONTH = DATE.strftime('%B')\n",
    "MON = DATE.strftime('%b')\n",
    "\n",
    "if variable == 'GUST:surface':\n",
    "    str_var = 'Surface Gust'\n",
    "    cmap = cm_wind()\n",
    "elif variable == 'UVGRD:10 m':\n",
    "    str_var = '10 m Wind Speed'\n",
    "    cmap = cm_wind()\n",
    "\n",
    "SAVEDIR = '/uufs/chpc.utah.edu/common/home/u0553130/public_html/PhD/HRRR_OSG/California_%s/%s/' % (MONTH, var)\n",
    "if not os.path.exists(SAVEDIR):\n",
    "    os.makedirs(SAVEDIR)\n",
    "\n",
    "for hour in range(24):\n",
    "    fig, axes = plt.subplots(1, 3, figsize=(16,7))\n",
    "\n",
    "    for ax, p in zip(axes, [50, 95, 100]):\n",
    "        plt.sca(ax)\n",
    "        m.pcolormesh(Hlons, Hlats, OSG[hour]['p%02d' % p], latlon=True,\n",
    "                     vmax=cmap['vmax'],\n",
    "                     vmin=cmap['vmin'],\n",
    "                     cmap=cmap['cmap'])\n",
    "        m.drawstates()\n",
    "        m.drawcoastlines()\n",
    "        m.drawcountries()\n",
    "        plt.colorbar(orientation='horizontal', pad=.01, shrink=.8,\n",
    "                     label='%s  (m s$\\mathregular{^{-1}}$)' % str_var)\n",
    "        plt.title('%02dth Percentile' % p)\n",
    "    plt.suptitle('%s %02d:00 UTC' % (MONTH, hour))\n",
    "    plt.savefig(SAVEDIR+'%s_%s_%02d00-UTC' % (var, MON, hour))\n",
    "    plt.close()"
   ]
  },
  {
   "cell_type": "code",
   "execution_count": null,
   "metadata": {},
   "outputs": [],
   "source": []
  }
 ],
 "metadata": {
  "kernelspec": {
   "display_name": "Python 3",
   "language": "python",
   "name": "python3"
  },
  "language_info": {
   "codemirror_mode": {
    "name": "ipython",
    "version": 3
   },
   "file_extension": ".py",
   "mimetype": "text/x-python",
   "name": "python",
   "nbconvert_exporter": "python",
   "pygments_lexer": "ipython3",
   "version": "3.6.5"
  }
 },
 "nbformat": 4,
 "nbformat_minor": 2
}
