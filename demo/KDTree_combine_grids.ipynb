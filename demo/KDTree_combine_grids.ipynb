{
 "cells": [
  {
   "cell_type": "markdown",
   "metadata": {},
   "source": [
    "**Brian Blaylock**  \n",
    "**March 27, 2019**\n",
    "\n",
    "# KDTree Demo\n",
    "\n",
    "Use KDTree to combine gridded datasets on the same grid\n",
    "\n",
    "https://docs.scipy.org/doc/scipy-0.14.0/reference/generated/scipy.spatial.KDTree.query.html#scipy.spatial.KDTree.query\n"
   ]
  },
  {
   "cell_type": "code",
   "execution_count": 14,
   "metadata": {},
   "outputs": [],
   "source": [
    "from scipy import spatial\n",
    "import numpy as np\n",
    "import matplotlib.pyplot as plt"
   ]
  },
  {
   "cell_type": "code",
   "execution_count": 92,
   "metadata": {},
   "outputs": [],
   "source": [
    "x, y = np.mgrid[0:50:5, 0:80:10]"
   ]
  },
  {
   "cell_type": "code",
   "execution_count": 93,
   "metadata": {},
   "outputs": [],
   "source": [
    "tree = spatial.KDTree(list(zip(x.ravel(), y.ravel())))"
   ]
  },
  {
   "cell_type": "code",
   "execution_count": 94,
   "metadata": {},
   "outputs": [],
   "source": [
    "pts = np.array([[7, 7], [25, 35], [30,30]])"
   ]
  },
  {
   "cell_type": "code",
   "execution_count": 95,
   "metadata": {},
   "outputs": [
    {
     "name": "stdout",
     "output_type": "stream",
     "text": [
      "Distance to Nearest Neighbor: [3.60555128 5.         0.        ]\n",
      "Location of Nearest Neighbor: [ 9 43 51]\n"
     ]
    }
   ],
   "source": [
    "distance_to_neighbor, loc_neighbor = tree.query(pts)\n",
    "\n",
    "print('Distance to Nearest Neighbor:', distance_to_neighbor)\n",
    "print('Location of Nearest Neighbor:', loc_neighbor)"
   ]
  },
  {
   "cell_type": "code",
   "execution_count": 98,
   "metadata": {},
   "outputs": [
    {
     "data": {
      "image/png": "[encoded data removed]",
      "text/plain": [
       "<Figure size 432x288 with 1 Axes>"
      ]
     },
     "metadata": {},
     "output_type": "display_data"
    }
   ],
   "source": [
    "plt.pcolormesh(x, y, x*y, cmap=\"Spectral\")\n",
    "for i in pts:\n",
    "    plt.scatter(i[0], i[1], marker='^')\n",
    "\n",
    "for i in loc_neighbor:\n",
    "    plt.scatter(x.flatten()[i], y.flatten()[i], facecolor='none', edgecolors='k')"
   ]
  },
  {
   "cell_type": "code",
   "execution_count": null,
   "metadata": {},
   "outputs": [],
   "source": []
  }
 ],
 "metadata": {
  "kernelspec": {
   "display_name": "Python 3",
   "language": "python",
   "name": "python3"
  },
  "language_info": {
   "codemirror_mode": {
    "name": "ipython",
    "version": 3
   },
   "file_extension": ".py",
   "mimetype": "text/x-python",
   "name": "python",
   "nbconvert_exporter": "python",
   "pygments_lexer": "ipython3",
   "version": "3.6.5"
  }
 },
 "nbformat": 4,
 "nbformat_minor": 2
}
