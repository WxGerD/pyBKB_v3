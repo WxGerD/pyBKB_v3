{
 "cells": [
  {
   "cell_type": "markdown",
   "metadata": {},
   "source": [
    "**Brian Blaylock**  \n",
    "**August 23, 2019**\n",
    "\n",
    "# Find a point's nearest neighbor within a grid with the KDTree method\n",
    "\n",
    "I showed a simple method to find the nearest neighbor of a point in a latitude/longitude grid in [`Nearest_lat-lon_Grid.ipynb`](https://github.com/blaylockbk/pyBKB_v3/blob/master/demo/Nearest_lat-lon_Grid.ipynb), but this notebook shows a different method that is useful for finding the nearest neightbor when you have _many_ point locations.\n",
    "\n",
    "In this example, we will find the nearest HRRR grid point for all NWS and RAWS stations.\n",
    "\n",
    "Reference: \n",
    "- https://docs.scipy.org/doc/scipy/reference/generated/scipy.spatial.KDTree.query.html\n",
    "- https://docs.scipy.org/doc/scipy/reference/generated/scipy.spatial.KDTree.html (for more useful methods, like finding points within distance of each point)."
   ]
  },
  {
   "cell_type": "code",
   "execution_count": 1,
   "metadata": {},
   "outputs": [],
   "source": [
    "from scipy import spatial\n",
    "import numpy as np\n",
    "import matplotlib.pyplot as plt\n",
    "from datetime import datetime\n",
    "\n",
    "import sys\n",
    "sys.path.append('/uufs/chpc.utah.edu/common/home/u0553130/pyBKB_v3/')\n",
    "from BB_HRRR.HRRR_Pando import get_hrrr_variable, get_hrrr_latlon\n",
    "from BB_MesoWest.get_MesoWest import get_mesowest_stninfo, get_MW_token, load_json\n",
    "from BB_maps.my_basemap import draw_HRRR_map, draw_centermap"
   ]
  },
  {
   "cell_type": "markdown",
   "metadata": {},
   "source": [
    "# Basic example"
   ]
  },
  {
   "cell_type": "code",
   "execution_count": 2,
   "metadata": {},
   "outputs": [
    {
     "name": "stdout",
     "output_type": "stream",
     "text": [
      "The point [7 7] is nearest the grid location [ 5 10] and is 3.61 units away.\n",
      "The point [25 35] is nearest the grid location [25 30] and is 5.00 units away.\n",
      "The point [30 30] is nearest the grid location [30 30] and is 0.00 units away.\n"
     ]
    },
    {
     "data": {
      "text/plain": [
       "<matplotlib.collections.PathCollection at 0x2afeaa2d7828>"
      ]
     },
     "execution_count": 2,
     "metadata": {},
     "output_type": "execute_result"
    },
    {
     "data": {
      "image/png": "[encoded data removed]",
      "text/plain": [
       "<Figure size 432x288 with 1 Axes>"
      ]
     },
     "metadata": {},
     "output_type": "display_data"
    }
   ],
   "source": [
    "# Make a 2D grid\n",
    "x, y = np.mgrid[0:40:5, 0:80:10]\n",
    "\n",
    "# Create a KDTree object based on the grid\n",
    "tree = spatial.KDTree(list(zip(x.ravel(), y.ravel())))\n",
    "# You can print the data of the tree with `tree.data`\n",
    "\n",
    "# Specify a set of points you wish to find the nearest neighbor for\n",
    "pts = np.array([[7, 7], [25, 35], [30,30]])\n",
    "\n",
    "# Query the points in the KDTree. Output is \n",
    "# 1) distance of point to the nearest grid neighbor\n",
    "# 2) index of neighbor point in the tree.\n",
    "dist_to_neighbor, idx_neighbor = tree.query(pts)\n",
    "\n",
    "for point, dist, idx in zip(pts, dist_to_neighbor, idx_neighbor):\n",
    "    print('The point %s is nearest the grid location %s and is %.2f units away.' \\\n",
    "          % (point, tree.data[idx], dist))\n",
    "\n",
    "plt.pcolormesh(x, y, x*y, cmap=\"Spectral\", alpha=.5)\n",
    "for i in pts:\n",
    "    plt.scatter(i[0], i[1], marker='^', s=100)\n",
    "\n",
    "plt.scatter(tree.data[idx_neighbor][:,0], tree.data[idx_neighbor][:,1], facecolor='none', edgecolors='k', s=100)"
   ]
  },
  {
   "cell_type": "markdown",
   "metadata": {},
   "source": [
    "---\n",
    "# Example with HRRR data and point observation sites"
   ]
  },
  {
   "cell_type": "code",
   "execution_count": 3,
   "metadata": {},
   "outputs": [
    {
     "name": "stdout",
     "output_type": "stream",
     "text": [
      "loaded /uufs/chpc.utah.edu/common/home/u0553130/pyBKB_v3/BB_maps/saved_map_objects/HRRR_lcc_i_2000.npy map from file\n"
     ]
    }
   ],
   "source": [
    "# Create Map of HRRR model domain\n",
    "m = draw_HRRR_map()"
   ]
  },
  {
   "cell_type": "code",
   "execution_count": null,
   "metadata": {},
   "outputs": [],
   "source": [
    "# Get the HRRR latitude and longitude grid\n",
    "lat, lon = get_hrrr_latlon(DICT=False)"
   ]
  },
  {
   "cell_type": "markdown",
   "metadata": {},
   "source": [
    "### Create a KDTree object all points of the grid\n",
    "Creating the KDTree requres the latitude and longitude points to be in a single row (not a 2D array). There are two possible ways to do this. Both lines below do the essentially the same thing. The numpy way is a bit faster:\n",
    "\n",
    "    np.column_stack([lon.ravel(), lat.ravel()])\n",
    "    \n",
    "    list(zip(lon.ravel(), lat.ravel()))  \n"
   ]
  },
  {
   "cell_type": "code",
   "execution_count": null,
   "metadata": {},
   "outputs": [],
   "source": [
    "timer = datetime.now()\n",
    "\n",
    "tree = spatial.KDTree(np.column_stack([lon.ravel(), lat.ravel()]))\n",
    "\n",
    "print(datetime.now()-timer)"
   ]
  },
  {
   "cell_type": "markdown",
   "metadata": {},
   "source": [
    "Look at the `tree` object data we just created..."
   ]
  },
  {
   "cell_type": "code",
   "execution_count": null,
   "metadata": {},
   "outputs": [],
   "source": [
    "tree.data"
   ]
  },
  {
   "cell_type": "markdown",
   "metadata": {},
   "source": [
    "If we have a point at 41 North, -110 West, we can use the tree to find the nearest HRRR grid point. The first number returned is the distance between the queried point and the nearest HRRR grid point (in degrees lat/lon). The second number is the index of the HRRR grid point in the tree object."
   ]
  },
  {
   "cell_type": "code",
   "execution_count": null,
   "metadata": {},
   "outputs": [],
   "source": [
    "point = np.array([-110, 41])\n",
    "tree.query(point)"
   ]
  },
  {
   "cell_type": "code",
   "execution_count": null,
   "metadata": {},
   "outputs": [],
   "source": [
    "dist, idx = tree.query(point)\n",
    "print('%s is nearest to HRRR grid point %s' % (point, tree.data[idx]))"
   ]
  },
  {
   "cell_type": "code",
   "execution_count": null,
   "metadata": {},
   "outputs": [],
   "source": []
  },
  {
   "cell_type": "markdown",
   "metadata": {},
   "source": [
    "## Now lets get the nearest neighbor for lots of station points!"
   ]
  },
  {
   "cell_type": "markdown",
   "metadata": {},
   "source": [
    "Get all NWS and RAWS station locations from the SynopticLabs API\n",
    "https://developers.synopticdata.com/mesonet/"
   ]
  },
  {
   "cell_type": "code",
   "execution_count": null,
   "metadata": {},
   "outputs": [],
   "source": [
    "# Build the MesoWest API request. Network number 1 and 2 are NWS and RAWS, respectively.\n",
    "URL = 'http://api.mesowest.net/v2/stations/metadata?' \\\n",
    "      + '&token=' + get_MW_token() \\\n",
    "      + '&network=1,2'\n",
    "\n",
    "# Retrieve the MesoWest data\n",
    "NWS = load_json(URL)"
   ]
  },
  {
   "cell_type": "markdown",
   "metadata": {},
   "source": [
    "Unpack the data we want (station name, ID, and latitidue/longitude)"
   ]
  },
  {
   "cell_type": "code",
   "execution_count": null,
   "metadata": {},
   "outputs": [],
   "source": [
    "stn_lons = np.array([stn['LONGITUDE'] for stn in NWS['STATION']], dtype=float)\n",
    "stn_lats = np.array([stn['LATITUDE'] for stn in NWS['STATION']], dtype=float)\n",
    "stn_names = np.array([stn['NAME'] for stn in NWS['STATION']])\n",
    "stn_ids = np.array([stn['STID'] for stn in NWS['STATION']])\n",
    "\n",
    "print(\"Total of %s stations\" % len(stn_lons))\n",
    "\n",
    "stn_points = np.column_stack([stn_lons, stn_lats])"
   ]
  },
  {
   "cell_type": "code",
   "execution_count": null,
   "metadata": {},
   "outputs": [],
   "source": [
    "stn_points"
   ]
  },
  {
   "cell_type": "markdown",
   "metadata": {},
   "source": [
    "## Plot station location on HRRR domain\n",
    "In a plain scatter plot, we see there are many stations outside the HRRR domain (Alaska, Hawaii, bad metadata?) We can filter these out when we do the KDTree query with `distance_upper_bound`."
   ]
  },
  {
   "cell_type": "code",
   "execution_count": null,
   "metadata": {},
   "outputs": [],
   "source": [
    "plt.scatter(stn_lons, stn_lats, marker='.', c=stn_lats)"
   ]
  },
  {
   "cell_type": "markdown",
   "metadata": {},
   "source": [
    "We can filter these out by setting an upper bound on the distance of the neighbor. We don't want to consider any stations whose distance is larger than 0.05 degrees. Distances larger than that threshold are flagged as `inf`."
   ]
  },
  {
   "cell_type": "code",
   "execution_count": null,
   "metadata": {},
   "outputs": [],
   "source": [
    "timer = datetime.now()\n",
    "dist, locs = tree.query(stn_points, distance_upper_bound=0.05)\n",
    "print(datetime.now()-timer)"
   ]
  },
  {
   "cell_type": "code",
   "execution_count": null,
   "metadata": {},
   "outputs": [],
   "source": [
    "print('Maximum distance between station and HRRR gridpoint: %.3f degrees' % np.max(dist[dist!=np.inf]))\n",
    "print('%s out of %s stations within the distance threshold' % (len(dist[dist!=np.inf]), len(dist)))"
   ]
  },
  {
   "cell_type": "code",
   "execution_count": null,
   "metadata": {},
   "outputs": [],
   "source": [
    "xs = tree.data[locs[dist!=np.inf]][:,0]\n",
    "ys = tree.data[locs[dist!=np.inf]][:,1]\n",
    "plt.scatter(xs, ys)"
   ]
  },
  {
   "cell_type": "code",
   "execution_count": null,
   "metadata": {},
   "outputs": [],
   "source": [
    "z = draw_centermap(center='KSLC', size=[.6,.6])"
   ]
  },
  {
   "cell_type": "code",
   "execution_count": null,
   "metadata": {},
   "outputs": [],
   "source": [
    "plt.figure(figsize=[15,15])\n",
    "z.drawstates(); z.drawcounties()\n",
    "z.pcolormesh(lon, lat, lon, alpha=.1, latlon=True)  # Shows HRRR gridpoints\n",
    "z.scatter(stn_lons, stn_lats, latlon=True, marker='.', label='STN point')\n",
    "z.scatter(xs, ys, latlon=True, marker='.', label='HRRR point')\n",
    "plt.legend()"
   ]
  },
  {
   "cell_type": "code",
   "execution_count": null,
   "metadata": {},
   "outputs": [],
   "source": [
    "len(np.unique(locs))"
   ]
  },
  {
   "cell_type": "code",
   "execution_count": null,
   "metadata": {},
   "outputs": [],
   "source": [
    "plt.figure(figsize=[15,10])\n",
    "m.scatter(stn_lons[dist!=np.inf], stn_lats[dist!=np.inf], latlon=True, marker='.', c=dist[dist!=np.inf])\n",
    "m.drawcountries(); m.drawstates(); m.drawcoastlines()\n",
    "plt.title('National Weather Service and RAWS', fontsize=25)\n",
    "plt.colorbar(label='HRRR to Station Point Distance', shrink=.8, pad=.01)"
   ]
  },
  {
   "cell_type": "markdown",
   "metadata": {},
   "source": [
    "# What if we didn't use the distance threshold? `distance_upper_bound`\n",
    "Well, not every NWS and RAWS station is within the HRRR domain, so we would have points that are very far from the nearest neighbor."
   ]
  },
  {
   "cell_type": "code",
   "execution_count": null,
   "metadata": {},
   "outputs": [],
   "source": [
    "# results for no threshold\n",
    "dist_nt, locs_nt = tree.query(stn_points)\n",
    "\n",
    "plt.figure(figsize=[15,10])\n",
    "plt.scatter(stn_lons, stn_lats, marker='.', c=dist_nt, cmap='flag')\n",
    "plt.title('National Weather Service and RAWS', fontsize=25)\n",
    "plt.colorbar(label='HRRR to Station Point Distance', shrink=.8, pad=.01)"
   ]
  },
  {
   "cell_type": "code",
   "execution_count": null,
   "metadata": {},
   "outputs": [],
   "source": []
  }
 ],
 "metadata": {
  "kernelspec": {
   "display_name": "Python 3",
   "language": "python",
   "name": "python3"
  },
  "language_info": {
   "codemirror_mode": {
    "name": "ipython",
    "version": 3
   },
   "file_extension": ".py",
   "mimetype": "text/x-python",
   "name": "python",
   "nbconvert_exporter": "python",
   "pygments_lexer": "ipython3",
   "version": "3.6.5"
  }
 },
 "nbformat": 4,
 "nbformat_minor": 2
}
