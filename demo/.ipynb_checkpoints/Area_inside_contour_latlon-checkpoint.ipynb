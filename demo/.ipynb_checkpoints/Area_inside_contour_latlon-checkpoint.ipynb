{
 "cells": [
  {
   "cell_type": "markdown",
   "metadata": {},
   "source": [
    "**Brian Blaylock**  \n",
    "**26 February 2019**\n",
    "\n",
    "# Compute the area of a closed lat/lon path\n",
    "Source: https://stackoverflow.com/questions/4681737/how-to-calculate-the-area-of-a-polygon-on-the-earths-surface-using-python\n",
    "\n",
    "--------\n",
    "## Green's Theorem:\n",
    "> \"Green's theorem can be used to determine the area and centroid of plane figures solely by integrating over the perimeter.\"\n",
    "\n",
    "- https://mathinsight.org/greens_theorem_idea\n",
    "- https://en.wikipedia.org/wiki/Green%27s_theorem#Area_calculation\n",
    "- https://leancrew.com/all-this/2018/01/greens-theorem-and-section-properties/\n",
    "- https://math.blogoverflow.com/2014/06/04/greens-theorem-and-area-of-polygons/\n",
    "\n",
    "\\begin{equation}\n",
    "\\int_C F\\cdot ds = \\int_C (Ldx + Mdy) = \\iint_D \\left( \\frac{\\partial M}{\\partial x}  - \\frac{\\partial L}{\\partial y} \\right) dx dy \n",
    "\\end{equation}\n",
    "\n",
    "Where L and M are a funciton of (x, y), In other words, L and M are the points of a path. Circulation must be counterclockwise.\n",
    "\n",
    "How does this translate to Python language?\n",
    "\n",
    "    area=np.abs(0.5*np.sum(ys[:-1]*np.diff(xs)-xs[:-1]*np.diff(ys)))\n",
    "    \n",
    "where `xs` and `ys` are the vertices of a closed loop.\n",
    "    \n",
    "- Absolute value: so that it doesn't matter if the points are clockwise or counterclockwise, the area is always postivie.\n",
    "\n",
    "\n",
    "## Use Shapely!\n",
    "Convert the vertices to a shapely Polygon. The `.area` method gives roughly the same result as computing Green's Theorem ourselves.\n",
    "\n",
    "---\n",
    "## Basemap's role\n",
    "Basemap is used to generate a projection of the latitude/longitude points on a Cylindrial Equal-Area map. The map coordinates, in meters, can be used to compute an area.\n",
    "\n",
    "Map Type: [Cylindrical Equal Area](http://desktop.arcgis.com/en/arcmap/10.3/guide-books/map-projections/cylindrical-equal-area.htm)\n",
    "- Shape is true along the standard parallels of the normal aspect. Distortion is severe near the poles of the normal aspect.\n",
    "- There is no area distortion.\n",
    "\n",
    "---\n",
    "---"
   ]
  },
  {
   "cell_type": "code",
   "execution_count": 231,
   "metadata": {},
   "outputs": [],
   "source": [
    "import numpy as np\n",
    "import matplotlib.pyplot as plt\n",
    "from datetime import datetime, timedelta\n",
    "\n",
    "from shapely.geometry import Polygon\n",
    "\n",
    "import matplotlib.pyplot as plt\n",
    "from matplotlib.path import Path\n",
    "import matplotlib.patches as patches\n",
    "\n",
    "import sys\n",
    "sys.path.append('/uufs/chpc.utah.edu/common/home/u0553130/pyBKB_v3')\n",
    "from BB_maps.my_basemap import draw_HRRR_map, draw_centermap"
   ]
  },
  {
   "cell_type": "code",
   "execution_count": 243,
   "metadata": {},
   "outputs": [],
   "source": [
    "PATH_points = {\n",
    "    'Utah':{\n",
    "        'lon':[-114.041664, -111.047526, -111.045645,  -109.051460, -109.048632, -114.051534, -114.041664],\n",
    "        'lat':[41.993580, 42.002846, 40.998538, 40.998403, 36.998310, 37.000574, 41.993580],\n",
    "        'google area': 84899},\n",
    "    'Colorado':{\n",
    "        'lon': [-102.05, -102.4, -109.05, -109.05, -102.05], \n",
    "        'lat': [41, 37, 37, 41, 41],\n",
    "        'google area': 104185}\n",
    "}\n",
    "\n",
    "## Combine lat/lon as vertice pair as a tuple. i.e. (lon, lat).\n",
    "PATH_verts = {}\n",
    "for i in PATH_points.keys():\n",
    "    PATH_verts[i] = list(zip(PATH_points[i]['lon'], PATH_points[i]['lat']))\n",
    "\n",
    "## Generate Path objects from the vertices.\n",
    "PATHS = {}\n",
    "for i in PATH_verts.keys():\n",
    "    PATHS[i] = Path(PATH_verts[i])"
   ]
  },
  {
   "cell_type": "markdown",
   "metadata": {},
   "source": [
    "# Compute Area (two methods)"
   ]
  },
  {
   "cell_type": "code",
   "execution_count": 250,
   "metadata": {},
   "outputs": [
    {
     "data": {
      "image/png": "[encoded data removed]",
      "text/plain": [
       "<Figure size 432x288 with 1 Axes>"
      ]
     },
     "metadata": {},
     "output_type": "display_data"
    }
   ],
   "source": [
    "# Get vertices\n",
    "loc = 'Utah'\n",
    "coordinates = PATHS[loc].vertices\n",
    "lats=coordinates[:,1]\n",
    "lons=coordinates[:,0]\n",
    "\n",
    "lat1=numpy.min(lats)-1.5\n",
    "lat2=numpy.max(lats)+1.5\n",
    "lon1=numpy.min(lons)-1.5\n",
    "lon2=numpy.max(lons)+1.5\n",
    "\n",
    "# Make a Cylindrial Equal-Area Projection map\n",
    "bmap = Basemap(projection='cea',llcrnrlat=lat1,llcrnrlon=lon1,urcrnrlat=lat2,urcrnrlon=lon2)\n",
    "# Convert latitude and longitude points to map coordinates (meters)\n",
    "xs, ys = bmap(lons,lats)\n",
    "\n",
    "bmap.scatter(lons, lats, latlon=True);\n",
    "bmap.drawstates();"
   ]
  },
  {
   "cell_type": "markdown",
   "metadata": {},
   "source": [
    "### 1) Shapely Method"
   ]
  },
  {
   "cell_type": "code",
   "execution_count": 234,
   "metadata": {},
   "outputs": [
    {
     "name": "stdout",
     "output_type": "stream",
     "text": [
      "Shapely: 84840.61545475773 sq miles\n"
     ]
    }
   ],
   "source": [
    "# Shapely Method\n",
    "cop = Polygon(zip(xs, ys))\n",
    "area=cop.area/1e6\n",
    "print('Shapely:', area*0.38610216, 'sq miles')"
   ]
  },
  {
   "cell_type": "markdown",
   "metadata": {},
   "source": [
    "### 2) Green's Theorem Method"
   ]
  },
  {
   "cell_type": "code",
   "execution_count": 235,
   "metadata": {},
   "outputs": [
    {
     "name": "stdout",
     "output_type": "stream",
     "text": [
      "Green's: 84840.61545475772  sq miles\n"
     ]
    }
   ],
   "source": [
    "# Green's Theorem Method\n",
    "area=np.abs(0.5*np.sum(ys[:-1]*np.diff(xs)-xs[:-1]*np.diff(ys)))\n",
    "print(\"Green's:\", area*0.38610216/1e6, ' sq miles')"
   ]
  },
  {
   "cell_type": "code",
   "execution_count": 248,
   "metadata": {},
   "outputs": [
    {
     "name": "stdout",
     "output_type": "stream",
     "text": [
      " Google: 84899 sq miles\n"
     ]
    }
   ],
   "source": [
    "# Google's Size of Utah\n",
    "print(' Google: %s sq miles' % PATH_points[loc]['google area'])"
   ]
  },
  {
   "cell_type": "code",
   "execution_count": null,
   "metadata": {},
   "outputs": [],
   "source": []
  }
 ],
 "metadata": {
  "kernelspec": {
   "display_name": "Python 3",
   "language": "python",
   "name": "python3"
  },
  "language_info": {
   "codemirror_mode": {
    "name": "ipython",
    "version": 3
   },
   "file_extension": ".py",
   "mimetype": "text/x-python",
   "name": "python",
   "nbconvert_exporter": "python",
   "pygments_lexer": "ipython3",
   "version": "3.6.5"
  }
 },
 "nbformat": 4,
 "nbformat_minor": 2
}
