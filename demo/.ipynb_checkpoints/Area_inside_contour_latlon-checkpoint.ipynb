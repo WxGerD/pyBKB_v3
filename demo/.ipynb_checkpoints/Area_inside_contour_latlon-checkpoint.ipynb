{
 "cells": [
  {
   "cell_type": "markdown",
   "metadata": {},
   "source": [
    "**Brian Blaylock**  \n",
    "**26 February 2019**\n",
    "\n",
    "# Compute the area of a closed lat/lon path\n",
    "Source: https://stackoverflow.com/questions/4681737/how-to-calculate-the-area-of-a-polygon-on-the-earths-surface-using-python\n"
   ]
  },
  {
   "cell_type": "code",
   "execution_count": null,
   "metadata": {},
   "outputs": [],
   "source": [
    "\n",
    "\n",
    "PATH_points = {\n",
    "    'HRRR':\n",
    "        {'lon': np.concatenate([Hlon[0], Hlon[:,-1], Hlon[-1][::-1], Hlon[:,0][::-1]]),\n",
    "         'lat': np.concatenate([Hlat[0], Hlat[:,-1], Hlat[-1][::-1], Hlat[:,0][::-1]])},\n",
    "    'West':{\n",
    "        'lon':[-120, -104, -104, -120, -120],\n",
    "        'lat':[24.4, 24.4, 50.2, 50.2, 24.2]},\n",
    "    'Central':{\n",
    "        'lon':[-104, -88, -88, -104, -104],\n",
    "        'lat':[24.4, 24.4, 50.2, 50.2, 24.2]},\n",
    "    'East':{\n",
    "        'lon':[-88, -72, -72, -88, -88],\n",
    "        'lat':[24.4, 24.4, 50.2, 50.2, 24.2]},\n",
    "    'Utah':{\n",
    "        'lon':[-114.041664, -111.047526, -111.045645,  -109.051460, -109.048632, -114.051534, -114.041664],\n",
    "        'lat':[41.993580, 42.002846, 40.998538, 40.998403, 36.998310, 37.000574, 41.993580]}\n",
    "}\n",
    "\n",
    "## Combine lat/lon as vertice pair as a tuple. i.e. (lon, lat).\n",
    "PATH_verts = {}\n",
    "for i in PATH_points.keys():\n",
    "    PATH_verts[i] = np.array([(PATH_points[i]['lon'][j], PATH_points[i]['lat'][j]) for j in range(len(PATH_points[i]['lon']))])\n",
    "\n",
    "## Generate Path objects from the vertices.\n",
    "PATHS = {}\n",
    "for i in PATH_verts.keys():\n",
    "    PATHS[i] = Path(PATH_verts[i])"
   ]
  },
  {
   "cell_type": "code",
   "execution_count": 3,
   "metadata": {},
   "outputs": [
    {
     "name": "stdout",
     "output_type": "stream",
     "text": [
      "268993.60965076793\n"
     ]
    }
   ],
   "source": [
    "import numpy\n",
    "from mpl_toolkits.basemap import Basemap\n",
    "\n",
    "coordinates=numpy.array([\n",
    "[-102.05, 41.0], \n",
    "[-102.05, 37.0], \n",
    "[-109.05, 37.0], \n",
    "[-109.05, 41.0],\n",
    "[-102.05, 41.0]])\n",
    "\n",
    "lats=coordinates[:,1]\n",
    "lons=coordinates[:,0]\n",
    "\n",
    "lat1=numpy.min(lats)\n",
    "lat2=numpy.max(lats)\n",
    "lon1=numpy.min(lons)\n",
    "lon2=numpy.max(lons)\n",
    "\n",
    "bmap=Basemap(projection='cea',llcrnrlat=lat1,llcrnrlon=lon1,urcrnrlat=lat2,urcrnrlon=lon2)\n",
    "xs,ys=bmap(lons,lats)\n",
    "\n",
    "area=numpy.abs(0.5*numpy.sum(ys[:-1]*numpy.diff(xs)-xs[:-1]*numpy.diff(ys)))\n",
    "area=area/1e6\n",
    "\n",
    "print(area)"
   ]
  },
  {
   "cell_type": "code",
   "execution_count": 7,
   "metadata": {},
   "outputs": [
    {
     "data": {
      "text/plain": [
       "array([345588.3984648,      0.       ,      0.       , 345588.3984648,\n",
       "       345588.3984648])"
      ]
     },
     "execution_count": 7,
     "metadata": {},
     "output_type": "execute_result"
    }
   ],
   "source": [
    "ys"
   ]
  },
  {
   "cell_type": "code",
   "execution_count": null,
   "metadata": {},
   "outputs": [],
   "source": []
  }
 ],
 "metadata": {
  "kernelspec": {
   "display_name": "Python 3",
   "language": "python",
   "name": "python3"
  },
  "language_info": {
   "codemirror_mode": {
    "name": "ipython",
    "version": 3
   },
   "file_extension": ".py",
   "mimetype": "text/x-python",
   "name": "python",
   "nbconvert_exporter": "python",
   "pygments_lexer": "ipython3",
   "version": "3.6.5"
  }
 },
 "nbformat": 4,
 "nbformat_minor": 2
}
