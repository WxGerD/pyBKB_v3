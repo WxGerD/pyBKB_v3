{
 "cells": [
  {
   "cell_type": "markdown",
   "metadata": {},
   "source": [
    "**Brian Blaylock**  \n",
    "**26 February 2019**\n",
    "\n",
    "# Compute the area of a closed lat/lon path\n",
    "Source: https://stackoverflow.com/questions/4681737/how-to-calculate-the-area-of-a-polygon-on-the-earths-surface-using-python\n"
   ]
  },
  {
   "cell_type": "code",
   "execution_count": 11,
   "metadata": {},
   "outputs": [],
   "source": [
    "import numpy as np\n",
    "import matplotlib.pyplot as plt\n",
    "from datetime import datetime, timedelta\n",
    "\n",
    "import matplotlib.pyplot as plt\n",
    "from matplotlib.path import Path\n",
    "import matplotlib.patches as patches\n",
    "\n",
    "\n",
    "import sys\n",
    "sys.path.append('/uufs/chpc.utah.edu/common/home/u0553130/pyBKB_v3')\n",
    "from BB_HRRR.HRRR_Pando import get_hrrr_variable\n",
    "from BB_cmap.landuse_colormap import LU_MODIS21\n",
    "from BB_cmap.FLAME_cmap import cm_ros\n",
    "from BB_maps.my_basemap import draw_HRRR_map, draw_centermap"
   ]
  },
  {
   "cell_type": "code",
   "execution_count": 9,
   "metadata": {},
   "outputs": [
    {
     "name": "stdout",
     "output_type": "stream",
     "text": [
      "\n",
      " >> Dowloading tempfile: ./temp_hrrr_2019010100_f00_HGT.grib2\n",
      "Oh, good, you requested a date that should be on Pando.\n",
      "GRIB2 File: https://pando-rgw01.chpc.utah.edu/hrrr/sfc/20190101/hrrr.t00z.wrfsfcf00.grib2\n",
      " .idx File: https://pando-rgw01.chpc.utah.edu/hrrr/sfc/20190101/hrrr.t00z.wrfsfcf00.grib2.idx\n",
      " >> Matched a variable:  58:30896245:d=2019010100:HGT:surface:anl:\n",
      " >> Byte Range: 30896245 33131021\n",
      "  Run Date: 2019-01-01 00:00 UTC F00\n",
      "Valid Date: 2019-01-01 00:00 UTC\n",
      "\n",
      " >> Dowloading tempfile: ./temp_hrrr_2019010100_f00_LAN.grib2\n",
      "Oh, good, you requested a date that should be on Pando.\n",
      "GRIB2 File: https://pando-rgw01.chpc.utah.edu/hrrr/sfc/20190101/hrrr.t00z.wrfsfcf00.grib2\n",
      " .idx File: https://pando-rgw01.chpc.utah.edu/hrrr/sfc/20190101/hrrr.t00z.wrfsfcf00.grib2.idx\n",
      " >> Matched a variable:  143:101738055:d=2019010100:LAND:surface:anl:\n",
      " >> Byte Range: 101738055 101788530\n",
      "  Run Date: 2019-01-01 00:00 UTC F00\n",
      "Valid Date: 2019-01-01 00:00 UTC\n"
     ]
    }
   ],
   "source": [
    "H = get_hrrr_variable(datetime(2019,1,1), 'HGT:surface')\n",
    "H_land = get_hrrr_variable(datetime(2019,1,1), 'LAND:surface')"
   ]
  },
  {
   "cell_type": "code",
   "execution_count": 12,
   "metadata": {},
   "outputs": [],
   "source": [
    "PATH_points = {\n",
    "    'HRRR':\n",
    "        {'lon': np.concatenate([H['lon'][0], H['lon'][:,-1], H['lon'][-1][::-1], H['lon'][:,0][::-1]]),\n",
    "         'lat': np.concatenate([H['lat'][0], H['lat'][:,-1], H['lat'][-1][::-1], H['lat'][:,0][::-1]])},\n",
    "    'West':{\n",
    "        'lon':[-120, -104, -104, -120, -120],\n",
    "        'lat':[24.4, 24.4, 50.2, 50.2, 24.2]},\n",
    "    'Central':{\n",
    "        'lon':[-104, -88, -88, -104, -104],\n",
    "        'lat':[24.4, 24.4, 50.2, 50.2, 24.2]},\n",
    "    'East':{\n",
    "        'lon':[-88, -72, -72, -88, -88],\n",
    "        'lat':[24.4, 24.4, 50.2, 50.2, 24.2]},\n",
    "    'Utah':{\n",
    "        'lon':[-114.041664, -111.047526, -111.045645,  -109.051460, -109.048632, -114.051534, -114.041664],\n",
    "        'lat':[41.993580, 42.002846, 40.998538, 40.998403, 36.998310, 37.000574, 41.993580]}\n",
    "}\n",
    "\n",
    "## Combine lat/lon as vertice pair as a tuple. i.e. (lon, lat).\n",
    "PATH_verts = {}\n",
    "for i in PATH_points.keys():\n",
    "    PATH_verts[i] = np.array([(PATH_points[i]['lon'][j], PATH_points[i]['lat'][j]) for j in range(len(PATH_points[i]['lon']))])\n",
    "\n",
    "## Generate Path objects from the vertices.\n",
    "PATHS = {}\n",
    "for i in PATH_verts.keys():\n",
    "    PATHS[i] = Path(PATH_verts[i])"
   ]
  },
  {
   "cell_type": "code",
   "execution_count": 13,
   "metadata": {},
   "outputs": [
    {
     "data": {
      "text/plain": [
       "{'HRRR': Path(array([[-122.719528  ,   21.138123  ],\n",
       "        [-122.69286132,   21.14511004],\n",
       "        [-122.6661903 ,   21.1520901 ],\n",
       "        ...,\n",
       "        [-122.73452632,   21.18786863],\n",
       "        [-122.72702499,   21.16299459],\n",
       "        [-122.719528  ,   21.138123  ]]), None),\n",
       " 'West': Path(array([[-120. ,   24.4],\n",
       "        [-104. ,   24.4],\n",
       "        [-104. ,   50.2],\n",
       "        [-120. ,   50.2],\n",
       "        [-120. ,   24.2]]), None),\n",
       " 'Central': Path(array([[-104. ,   24.4],\n",
       "        [ -88. ,   24.4],\n",
       "        [ -88. ,   50.2],\n",
       "        [-104. ,   50.2],\n",
       "        [-104. ,   24.2]]), None),\n",
       " 'East': Path(array([[-88. ,  24.4],\n",
       "        [-72. ,  24.4],\n",
       "        [-72. ,  50.2],\n",
       "        [-88. ,  50.2],\n",
       "        [-88. ,  24.2]]), None),\n",
       " 'Utah': Path(array([[-114.041664,   41.99358 ],\n",
       "        [-111.047526,   42.002846],\n",
       "        [-111.045645,   40.998538],\n",
       "        [-109.05146 ,   40.998403],\n",
       "        [-109.048632,   36.99831 ],\n",
       "        [-114.051534,   37.000574],\n",
       "        [-114.041664,   41.99358 ]]), None)}"
      ]
     },
     "execution_count": 13,
     "metadata": {},
     "output_type": "execute_result"
    }
   ],
   "source": [
    "PATHS"
   ]
  },
  {
   "cell_type": "code",
   "execution_count": 17,
   "metadata": {},
   "outputs": [
    {
     "data": {
      "text/plain": [
       "array([[-114.041664,   41.99358 ],\n",
       "       [-111.047526,   42.002846],\n",
       "       [-111.045645,   40.998538],\n",
       "       [-109.05146 ,   40.998403],\n",
       "       [-109.048632,   36.99831 ],\n",
       "       [-114.051534,   37.000574],\n",
       "       [-114.041664,   41.99358 ]])"
      ]
     },
     "execution_count": 17,
     "metadata": {},
     "output_type": "execute_result"
    }
   ],
   "source": [
    "PATHS['Utah'].vertices"
   ]
  },
  {
   "cell_type": "code",
   "execution_count": 18,
   "metadata": {},
   "outputs": [
    {
     "name": "stdout",
     "output_type": "stream",
     "text": [
      "219736.18447189653\n"
     ]
    }
   ],
   "source": [
    "\n",
    "\n",
    "#coordinates=numpy.array([\n",
    "#[-102.05, 41.0], \n",
    "#[-102.05, 37.0], \n",
    "#[-109.05, 37.0], \n",
    "#[-109.05, 41.0],\n",
    "#[-102.05, 41.0]])\n",
    "\n",
    "coordinates = PATHS[\"Utah\"].vertices\n",
    "\n",
    "\n",
    "lats=coordinates[:,1]\n",
    "lons=coordinates[:,0]\n",
    "\n",
    "lat1=numpy.min(lats)\n",
    "lat2=numpy.max(lats)\n",
    "lon1=numpy.min(lons)\n",
    "lon2=numpy.max(lons)\n",
    "\n",
    "# Cylindrial Equal-Area Projection\n",
    "bmap=Basemap(projection='cea',llcrnrlat=lat1,llcrnrlon=lon1,urcrnrlat=lat2,urcrnrlon=lon2)\n",
    "xs,ys=bmap(lons,lats)\n",
    "\n",
    "area=np.abs(0.5*np.sum(ys[:-1]*np.diff(xs)-xs[:-1]*np.diff(ys)))\n",
    "\n",
    "area=area/1e6\n",
    "\n",
    "print(area)"
   ]
  },
  {
   "cell_type": "code",
   "execution_count": 23,
   "metadata": {},
   "outputs": [
    {
     "data": {
      "text/plain": [
       "array([3, 4, 8])"
      ]
     },
     "execution_count": 23,
     "metadata": {},
     "output_type": "execute_result"
    }
   ],
   "source": [
    "np.diff([1,4,8,16])"
   ]
  },
  {
   "cell_type": "code",
   "execution_count": null,
   "metadata": {},
   "outputs": [],
   "source": []
  }
 ],
 "metadata": {
  "kernelspec": {
   "display_name": "Python 3",
   "language": "python",
   "name": "python3"
  },
  "language_info": {
   "codemirror_mode": {
    "name": "ipython",
    "version": 3
   },
   "file_extension": ".py",
   "mimetype": "text/x-python",
   "name": "python",
   "nbconvert_exporter": "python",
   "pygments_lexer": "ipython3",
   "version": "3.6.5"
  }
 },
 "nbformat": 4,
 "nbformat_minor": 2
}
