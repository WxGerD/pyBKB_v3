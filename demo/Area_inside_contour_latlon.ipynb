{
 "cells": [
  {
   "cell_type": "markdown",
   "metadata": {},
   "source": [
    "**Brian Blaylock**  \n",
    "**26 February 2019**\n",
    "\n",
    "# Compute the area of a closed lat/lon path\n",
    "Source: https://stackoverflow.com/questions/4681737/how-to-calculate-the-area-of-a-polygon-on-the-earths-surface-using-python\n",
    "\n",
    "--------\n",
    "## Green's Theorem:\n",
    "> \"Green's theorem can be used to determine the area and centroid of plane figures solely by integrating over the perimeter.\"\n",
    "\n",
    "- https://mathinsight.org/greens_theorem_idea\n",
    "- https://en.wikipedia.org/wiki/Green%27s_theorem#Area_calculation\n",
    "- https://leancrew.com/all-this/2018/01/greens-theorem-and-section-properties/\n",
    "- https://math.blogoverflow.com/2014/06/04/greens-theorem-and-area-of-polygons/\n",
    "- [Some Algorithms for Polygons on a Sphere, JPL](https://trs.jpl.nasa.gov/bitstream/handle/2014/41271/07-0286.pdf?sequence=1&isAllowed=y)\n",
    "\n",
    "\\begin{equation}\n",
    "\\int_C F\\cdot ds = \\int_C (Ldx + Mdy) = \\iint_D \\left( \\frac{\\partial M}{\\partial x}  - \\frac{\\partial L}{\\partial y} \\right) dx dy \n",
    "\\end{equation}\n",
    "\n",
    "Where L and M are a funciton of (x, y), In other words, L and M are the points of a path. Circulation must be counterclockwise.\n",
    "\n",
    "How does this translate to Python language?\n",
    "\n",
    "    area=np.abs(0.5*np.sum(ys[:-1]*np.diff(xs)-xs[:-1]*np.diff(ys)))\n",
    "    \n",
    "where `xs` and `ys` are the vertices of a closed loop.\n",
    "    \n",
    "- Absolute value: so that it doesn't matter if the points are clockwise or counterclockwise, the area is always postivie.\n",
    "\n",
    "\n",
    "## Use Shapely!\n",
    "Convert the vertices to a shapely Polygon. The `.area` method gives roughly the same result as computing Green's Theorem ourselves.\n",
    "\n",
    "---\n",
    "## Basemap's role\n",
    "Basemap is used to generate a projection of the latitude/longitude points on a Cylindrial Equal-Area map. The map coordinates, in meters, can be used to compute an area.\n",
    "\n",
    "Map Type: [Cylindrical Equal Area](http://desktop.arcgis.com/en/arcmap/10.3/guide-books/map-projections/cylindrical-equal-area.htm)\n",
    "- Shape is true along the standard parallels of the normal aspect. Distortion is severe near the poles of the normal aspect.\n",
    "- There is no area distortion.\n",
    "\n",
    "---\n",
    "---\n",
    "\n",
    "# HOWEVER!\n",
    "None of these methods acount for the curvature of the earth. If the area is large enough, the above methods will be an underestimate.\n",
    "\n",
    "For model datasets, we have to account for the curvature of the earth. A different funciton helps us do that.\n",
    "\n",
    "Area of polygon on a sphere:\n",
    "https://github.com/scisco/area\n",
    "\n",
    "Source of algorithm:\n",
    "[Some Algorithms for Polygons on a Sphere, JPL](https://trs.jpl.nasa.gov/bitstream/handle/2014/41271/07-0286.pdf?sequence=1&isAllowed=y)\n",
    "\n",
    "GeoJSON files for different states were retrieved from:\n",
    "https://github.com/johan/world.geo.json/tree/master/countries/USA\n",
    "\n",
    "\n",
    "---\n",
    "---"
   ]
  },
  {
   "cell_type": "code",
   "execution_count": 388,
   "metadata": {},
   "outputs": [],
   "source": [
    "import numpy as np\n",
    "import matplotlib.pyplot as plt\n",
    "from datetime import datetime, timedelta\n",
    "\n",
    "from shapely.geometry import Polygon\n",
    "import json\n",
    "\n",
    "import matplotlib.pyplot as plt\n",
    "from matplotlib.path import Path\n",
    "import matplotlib.patches as patches\n",
    "\n",
    "import sys\n",
    "sys.path.append('/uufs/chpc.utah.edu/common/home/u0553130/pyBKB_v3')\n",
    "from BB_maps.my_basemap import draw_HRRR_map, draw_centermap"
   ]
  },
  {
   "cell_type": "code",
   "execution_count": 438,
   "metadata": {},
   "outputs": [],
   "source": [
    "GeoJSON_Path = '/uufs/chpc.utah.edu/common/home/u0553130/pyBKB_v3/geojson_area/'\n",
    "\n",
    "PATH_points = {\n",
    "    'Colorado':{\n",
    "        'lon': np.array(json.loads(open(GeoJSON_Path+'CO.geo.json', 'r').read())['features'][0]['geometry']['coordinates'][0])[:,0], \n",
    "        'lat': np.array(json.loads(open(GeoJSON_Path+'CO.geo.json', 'r').read())['features'][0]['geometry']['coordinates'][0])[:,1],\n",
    "        'google area': 104185},\n",
    "    'Utah':{\n",
    "        'lon':np.array(json.loads(open(GeoJSON_Path+'UT.geo.json', 'r').read())['features'][0]['geometry']['coordinates'][0])[:,0],\n",
    "        'lat':np.array(json.loads(open(GeoJSON_Path+'UT.geo.json', 'r').read())['features'][0]['geometry']['coordinates'][0])[:,1],\n",
    "        'google area': 84899,},\n",
    "    'CA':{\n",
    "        'lon':np.array(json.loads(open(GeoJSON_Path+'CA.geo.json', 'r').read())['features'][0]['geometry']['coordinates'][0])[:,0],\n",
    "        'lat':np.array(json.loads(open(GeoJSON_Path+'CA.geo.json', 'r').read())['features'][0]['geometry']['coordinates'][0])[:,1],\n",
    "        'google area': 163696},\n",
    "    'Idaho':{\n",
    "        'lon':np.array(json.loads(open(GeoJSON_Path+'ID.geo.json', 'r').read())['features'][0]['geometry']['coordinates'][0])[:,0],\n",
    "        'lat':np.array(json.loads(open(GeoJSON_Path+'ID.geo.json', 'r').read())['features'][0]['geometry']['coordinates'][0])[:,1],\n",
    "        'google area': 83642},\n",
    "    'Wyoming':{\n",
    "        'lon':np.array(json.loads(open(GeoJSON_Path+'WY.geo.json', 'r').read())['features'][0]['geometry']['coordinates'][0])[:,0],\n",
    "        'lat':np.array(json.loads(open(GeoJSON_Path+'WY.geo.json', 'r').read())['features'][0]['geometry']['coordinates'][0])[:,1],\n",
    "        'google area': 97818},\n",
    "    \n",
    "}\n",
    "\n",
    "## Combine lat/lon as vertice pair as a tuple. i.e. (lon, lat).\n",
    "PATH_verts = {}\n",
    "for i in PATH_points.keys():\n",
    "    PATH_verts[i] = list(zip(PATH_points[i]['lon'], PATH_points[i]['lat']))\n",
    "\n",
    "## Generate Path objects from the vertices.\n",
    "PATHS = {}\n",
    "for i in PATH_verts.keys():\n",
    "    PATHS[i] = Path(PATH_verts[i])"
   ]
  },
  {
   "cell_type": "code",
   "execution_count": 439,
   "metadata": {},
   "outputs": [
    {
     "data": {
      "text/plain": [
       "Path(array([[-109.080842,   45.002073],\n",
       "       [-105.91517 ,   45.002073],\n",
       "       [-104.058488,   44.996596],\n",
       "       [-104.053011,   43.002989],\n",
       "       [-104.053011,   41.003906],\n",
       "       [-105.728954,   40.998429],\n",
       "       [-107.919731,   41.003906],\n",
       "       [-109.04798 ,   40.998429],\n",
       "       [-111.047063,   40.998429],\n",
       "       [-111.047063,   42.000709],\n",
       "       [-111.047063,   44.476286],\n",
       "       [-111.05254 ,   45.002073],\n",
       "       [-109.080842,   45.002073]]), None)"
      ]
     },
     "execution_count": 439,
     "metadata": {},
     "output_type": "execute_result"
    }
   ],
   "source": [
    "PATHS['Wyoming']"
   ]
  },
  {
   "cell_type": "markdown",
   "metadata": {},
   "source": [
    "# Compute Area (two methods)"
   ]
  },
  {
   "cell_type": "code",
   "execution_count": 447,
   "metadata": {},
   "outputs": [
    {
     "data": {
      "image/png": "[encoded data removed]",
      "text/plain": [
       "<Figure size 432x288 with 1 Axes>"
      ]
     },
     "metadata": {},
     "output_type": "display_data"
    }
   ],
   "source": [
    "# Get vertices\n",
    "loc = 'CA'\n",
    "coordinates = PATHS[loc].vertices\n",
    "lats=coordinates[:,1]\n",
    "lons=coordinates[:,0]\n",
    "\n",
    "lat1=np.min(lats)-1.5\n",
    "lat2=np.max(lats)+1.5\n",
    "lon1=np.min(lons)-1.5\n",
    "lon2=np.max(lons)+1.5\n",
    "\n",
    "# Make a Cylindrial Equal-Area Projection map\n",
    "bmap = Basemap(projection='cea',llcrnrlat=lat1,llcrnrlon=lon1,urcrnrlat=lat2,urcrnrlon=lon2)\n",
    "# Convert latitude and longitude points to map coordinates (meters)\n",
    "xs, ys = bmap(lons,lats)\n",
    "\n",
    "bmap.scatter(lons, lats, latlon=True);\n",
    "bmap.drawstates();"
   ]
  },
  {
   "cell_type": "markdown",
   "metadata": {},
   "source": [
    "### 1) Shapely Method"
   ]
  },
  {
   "cell_type": "code",
   "execution_count": 448,
   "metadata": {},
   "outputs": [
    {
     "name": "stdout",
     "output_type": "stream",
     "text": [
      "Shapely CA: 158067.07 sq miles\n",
      "Diff_from_google: -5628.93 sq miles\n"
     ]
    }
   ],
   "source": [
    "# Shapely Method\n",
    "cop = Polygon(zip(xs, ys))\n",
    "area=cop.area\n",
    "area_sqmiles = area*0.38610216/1e6\n",
    "print('Shapely %s: %.2f' % (loc, area_sqmiles), 'sq miles')\n",
    "print('Diff_from_google: %.2f' % (area_sqmiles-PATH_points[loc]['google area']), 'sq miles')"
   ]
  },
  {
   "cell_type": "markdown",
   "metadata": {},
   "source": [
    "### 2) Green's Theorem Method"
   ]
  },
  {
   "cell_type": "code",
   "execution_count": 449,
   "metadata": {},
   "outputs": [
    {
     "name": "stdout",
     "output_type": "stream",
     "text": [
      "Green's CA: 158067.07 sq miles\n",
      "Diff_from_google: -5628.93 sq miles\n"
     ]
    }
   ],
   "source": [
    "# Green's Theorem Method\n",
    "area=np.abs(0.5*np.sum(ys[:-1]*np.diff(xs)-xs[:-1]*np.diff(ys)))\n",
    "area_sqmiles = area*0.38610216/1e6\n",
    "print(\"Green's %s: %.2f\" % (loc, area_sqmiles), 'sq miles')\n",
    "print('Diff_from_google: %.2f' % (area_sqmiles-PATH_points[loc]['google area']), 'sq miles')"
   ]
  },
  {
   "cell_type": "code",
   "execution_count": 450,
   "metadata": {},
   "outputs": [
    {
     "name": "stdout",
     "output_type": "stream",
     "text": [
      " Google CA : 163696 sq miles\n"
     ]
    }
   ],
   "source": [
    "# Google's Size\n",
    "print(' Google %s : %s sq miles' % (loc, PATH_points[loc]['google area']))"
   ]
  },
  {
   "cell_type": "markdown",
   "metadata": {},
   "source": [
    "# Compute Area on a Sphere!"
   ]
  },
  {
   "cell_type": "code",
   "execution_count": 444,
   "metadata": {},
   "outputs": [],
   "source": [
    "from geojson_area.area import area as GeoJSON_area"
   ]
  },
  {
   "cell_type": "code",
   "execution_count": 446,
   "metadata": {},
   "outputs": [
    {
     "name": "stdout",
     "output_type": "stream",
     "text": [
      "GeoJSON Utah: 84932.15  sq miles\n",
      "Diff_from_google: 33.15 sq miles\n",
      "\n",
      "GeoJSON Colorado: 104211.64  sq miles\n",
      "Diff_from_google: 26.64 sq miles\n",
      "\n",
      "GeoJSON CA: 158421.56  sq miles\n",
      "Diff_from_google: -5274.44 sq miles\n",
      "\n",
      "GeoJSON Idaho: 83531.19  sq miles\n",
      "Diff_from_google: -110.81 sq miles\n",
      "\n",
      "GeoJSON Wyoming: 97883.36  sq miles\n",
      "Diff_from_google: 65.36 sq miles\n",
      "\n"
     ]
    }
   ],
   "source": [
    "for loc in ['Utah', 'Colorado', 'CA', 'Idaho', 'Wyoming']:\n",
    "    obj = {'type':'Polygon','coordinates':[list(zip(PATH_points[loc]['lon'], PATH_points[loc]['lat']))]}\n",
    "    area = GeoJSON_area(obj)\n",
    "    area_sqmiles = area*0.38610216/1e6\n",
    "    print(\"GeoJSON %s: %.2f\" % (loc, area_sqmiles), ' sq miles')\n",
    "    print('Diff_from_google: %.2f' % (area_sqmiles-PATH_points[loc]['google area']), 'sq miles')\n",
    "    print()"
   ]
  },
  {
   "cell_type": "markdown",
   "metadata": {},
   "source": [
    "Note: California's area is probably way off becuase the geojson file doesn't include the islands and is a lower resolution."
   ]
  },
  {
   "cell_type": "code",
   "execution_count": 453,
   "metadata": {},
   "outputs": [
    {
     "data": {
      "text/plain": [
       "(1, 13, 2)"
      ]
     },
     "execution_count": 453,
     "metadata": {},
     "output_type": "execute_result"
    }
   ],
   "source": [
    "np.shape(obj['coordinates'])"
   ]
  },
  {
   "cell_type": "code",
   "execution_count": null,
   "metadata": {},
   "outputs": [],
   "source": []
  }
 ],
 "metadata": {
  "kernelspec": {
   "display_name": "Python 3",
   "language": "python",
   "name": "python3"
  },
  "language_info": {
   "codemirror_mode": {
    "name": "ipython",
    "version": 3
   },
   "file_extension": ".py",
   "mimetype": "text/x-python",
   "name": "python",
   "nbconvert_exporter": "python",
   "pygments_lexer": "ipython3",
   "version": "3.6.5"
  }
 },
 "nbformat": 4,
 "nbformat_minor": 2
}
